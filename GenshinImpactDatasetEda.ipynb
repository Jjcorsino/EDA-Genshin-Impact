{
 "cells": [
  {
   "cell_type": "code",
   "execution_count": 2,
   "metadata": {},
   "outputs": [],
   "source": [
    "import pandas as pd\n",
    "import seaborn as sns\n",
    "from matplotlib import pyplot as plt\n",
    "from ydata_profiling import ProfileReport"
   ]
  },
  {
   "cell_type": "markdown",
   "metadata": {},
   "source": [
    "Obteniendo data de la Wiki de Genshin Impact"
   ]
  },
  {
   "cell_type": "code",
   "execution_count": 3,
   "metadata": {},
   "outputs": [
    {
     "data": {
      "text/html": [
       "<div>\n",
       "<style scoped>\n",
       "    .dataframe tbody tr th:only-of-type {\n",
       "        vertical-align: middle;\n",
       "    }\n",
       "\n",
       "    .dataframe tbody tr th {\n",
       "        vertical-align: top;\n",
       "    }\n",
       "\n",
       "    .dataframe thead th {\n",
       "        text-align: right;\n",
       "    }\n",
       "</style>\n",
       "<table border=\"1\" class=\"dataframe\">\n",
       "  <thead>\n",
       "    <tr style=\"text-align: right;\">\n",
       "      <th></th>\n",
       "      <th>Icon</th>\n",
       "      <th>Name</th>\n",
       "      <th>Quality</th>\n",
       "      <th>Element</th>\n",
       "      <th>Weapon</th>\n",
       "      <th>Region</th>\n",
       "      <th>Model Type</th>\n",
       "    </tr>\n",
       "  </thead>\n",
       "  <tbody>\n",
       "    <tr>\n",
       "      <th>0</th>\n",
       "      <td>NaN</td>\n",
       "      <td>Albedo</td>\n",
       "      <td>NaN</td>\n",
       "      <td>Geo</td>\n",
       "      <td>Sword</td>\n",
       "      <td>Mondstadt</td>\n",
       "      <td>Medium Male</td>\n",
       "    </tr>\n",
       "    <tr>\n",
       "      <th>1</th>\n",
       "      <td>NaN</td>\n",
       "      <td>Alhaitham</td>\n",
       "      <td>NaN</td>\n",
       "      <td>Dendro</td>\n",
       "      <td>Sword</td>\n",
       "      <td>Sumeru</td>\n",
       "      <td>Tall Male</td>\n",
       "    </tr>\n",
       "    <tr>\n",
       "      <th>2</th>\n",
       "      <td>NaN</td>\n",
       "      <td>Aloy</td>\n",
       "      <td>NaN</td>\n",
       "      <td>Cryo</td>\n",
       "      <td>Bow</td>\n",
       "      <td>NaN</td>\n",
       "      <td>Medium Female</td>\n",
       "    </tr>\n",
       "    <tr>\n",
       "      <th>3</th>\n",
       "      <td>NaN</td>\n",
       "      <td>Amber</td>\n",
       "      <td>NaN</td>\n",
       "      <td>Pyro</td>\n",
       "      <td>Bow</td>\n",
       "      <td>Mondstadt</td>\n",
       "      <td>Medium Female</td>\n",
       "    </tr>\n",
       "    <tr>\n",
       "      <th>4</th>\n",
       "      <td>NaN</td>\n",
       "      <td>Arataki Itto</td>\n",
       "      <td>NaN</td>\n",
       "      <td>Geo</td>\n",
       "      <td>Claymore</td>\n",
       "      <td>Inazuma</td>\n",
       "      <td>Tall Male</td>\n",
       "    </tr>\n",
       "    <tr>\n",
       "      <th>...</th>\n",
       "      <td>...</td>\n",
       "      <td>...</td>\n",
       "      <td>...</td>\n",
       "      <td>...</td>\n",
       "      <td>...</td>\n",
       "      <td>...</td>\n",
       "      <td>...</td>\n",
       "    </tr>\n",
       "    <tr>\n",
       "      <th>70</th>\n",
       "      <td>NaN</td>\n",
       "      <td>Yaoyao</td>\n",
       "      <td>NaN</td>\n",
       "      <td>Dendro</td>\n",
       "      <td>Polearm</td>\n",
       "      <td>Liyue</td>\n",
       "      <td>Short Female</td>\n",
       "    </tr>\n",
       "    <tr>\n",
       "      <th>71</th>\n",
       "      <td>NaN</td>\n",
       "      <td>Yelan</td>\n",
       "      <td>NaN</td>\n",
       "      <td>Hydro</td>\n",
       "      <td>Bow</td>\n",
       "      <td>Liyue</td>\n",
       "      <td>Tall Female</td>\n",
       "    </tr>\n",
       "    <tr>\n",
       "      <th>72</th>\n",
       "      <td>NaN</td>\n",
       "      <td>Yoimiya</td>\n",
       "      <td>NaN</td>\n",
       "      <td>Pyro</td>\n",
       "      <td>Bow</td>\n",
       "      <td>Inazuma</td>\n",
       "      <td>Medium Female</td>\n",
       "    </tr>\n",
       "    <tr>\n",
       "      <th>73</th>\n",
       "      <td>NaN</td>\n",
       "      <td>Yun Jin</td>\n",
       "      <td>NaN</td>\n",
       "      <td>Geo</td>\n",
       "      <td>Polearm</td>\n",
       "      <td>Liyue</td>\n",
       "      <td>Medium Female</td>\n",
       "    </tr>\n",
       "    <tr>\n",
       "      <th>74</th>\n",
       "      <td>NaN</td>\n",
       "      <td>Zhongli</td>\n",
       "      <td>NaN</td>\n",
       "      <td>Geo</td>\n",
       "      <td>Polearm</td>\n",
       "      <td>Liyue</td>\n",
       "      <td>Tall Male</td>\n",
       "    </tr>\n",
       "  </tbody>\n",
       "</table>\n",
       "<p>75 rows × 7 columns</p>\n",
       "</div>"
      ],
      "text/plain": [
       "    Icon          Name  Quality Element    Weapon     Region     Model Type\n",
       "0    NaN        Albedo      NaN     Geo     Sword  Mondstadt    Medium Male\n",
       "1    NaN     Alhaitham      NaN  Dendro     Sword     Sumeru      Tall Male\n",
       "2    NaN          Aloy      NaN    Cryo       Bow        NaN  Medium Female\n",
       "3    NaN         Amber      NaN    Pyro       Bow  Mondstadt  Medium Female\n",
       "4    NaN  Arataki Itto      NaN     Geo  Claymore    Inazuma      Tall Male\n",
       "..   ...           ...      ...     ...       ...        ...            ...\n",
       "70   NaN        Yaoyao      NaN  Dendro   Polearm      Liyue   Short Female\n",
       "71   NaN         Yelan      NaN   Hydro       Bow      Liyue    Tall Female\n",
       "72   NaN       Yoimiya      NaN    Pyro       Bow    Inazuma  Medium Female\n",
       "73   NaN       Yun Jin      NaN     Geo   Polearm      Liyue  Medium Female\n",
       "74   NaN       Zhongli      NaN     Geo   Polearm      Liyue      Tall Male\n",
       "\n",
       "[75 rows x 7 columns]"
      ]
     },
     "execution_count": 3,
     "metadata": {},
     "output_type": "execute_result"
    }
   ],
   "source": [
    "charactersUrl = 'https://genshin-impact.fandom.com/wiki/Character'\n",
    "charactersUrlStats = 'https://genshin-impact.fandom.com/wiki/Character/Comparison'\n",
    "characters = pd.read_html(charactersUrl)\n",
    "charactersStats = pd.read_html(charactersUrlStats)\n",
    "df1 = characters[1]\n",
    "df2 = charactersStats[0]\n",
    "df1"
   ]
  },
  {
   "cell_type": "markdown",
   "metadata": {},
   "source": [
    "Dropeando columnas con valores NaN"
   ]
  },
  {
   "cell_type": "code",
   "execution_count": 4,
   "metadata": {},
   "outputs": [
    {
     "data": {
      "text/html": [
       "<div>\n",
       "<style scoped>\n",
       "    .dataframe tbody tr th:only-of-type {\n",
       "        vertical-align: middle;\n",
       "    }\n",
       "\n",
       "    .dataframe tbody tr th {\n",
       "        vertical-align: top;\n",
       "    }\n",
       "\n",
       "    .dataframe thead th {\n",
       "        text-align: right;\n",
       "    }\n",
       "</style>\n",
       "<table border=\"1\" class=\"dataframe\">\n",
       "  <thead>\n",
       "    <tr style=\"text-align: right;\">\n",
       "      <th></th>\n",
       "      <th>Name</th>\n",
       "      <th>HP</th>\n",
       "      <th>ATK</th>\n",
       "      <th>DEF</th>\n",
       "      <th>Ascension Stat</th>\n",
       "      <th>Ascension Stat Value</th>\n",
       "    </tr>\n",
       "  </thead>\n",
       "  <tbody>\n",
       "    <tr>\n",
       "      <th>0</th>\n",
       "      <td>Albedo</td>\n",
       "      <td>13225</td>\n",
       "      <td>251</td>\n",
       "      <td>876</td>\n",
       "      <td>Geo DMG Bonus</td>\n",
       "      <td>28.8%</td>\n",
       "    </tr>\n",
       "    <tr>\n",
       "      <th>1</th>\n",
       "      <td>Alhaitham</td>\n",
       "      <td>13348</td>\n",
       "      <td>313</td>\n",
       "      <td>781</td>\n",
       "      <td>Dendro DMG Bonus</td>\n",
       "      <td>28.8%</td>\n",
       "    </tr>\n",
       "    <tr>\n",
       "      <th>2</th>\n",
       "      <td>Aloy</td>\n",
       "      <td>10898</td>\n",
       "      <td>233</td>\n",
       "      <td>676</td>\n",
       "      <td>Cryo DMG Bonus</td>\n",
       "      <td>28.8%</td>\n",
       "    </tr>\n",
       "    <tr>\n",
       "      <th>3</th>\n",
       "      <td>Amber</td>\n",
       "      <td>9461</td>\n",
       "      <td>223</td>\n",
       "      <td>600</td>\n",
       "      <td>ATK</td>\n",
       "      <td>24.0%</td>\n",
       "    </tr>\n",
       "    <tr>\n",
       "      <th>4</th>\n",
       "      <td>Arataki Itto</td>\n",
       "      <td>12858</td>\n",
       "      <td>227</td>\n",
       "      <td>959</td>\n",
       "      <td>CRIT Rate</td>\n",
       "      <td>19.2%</td>\n",
       "    </tr>\n",
       "    <tr>\n",
       "      <th>...</th>\n",
       "      <td>...</td>\n",
       "      <td>...</td>\n",
       "      <td>...</td>\n",
       "      <td>...</td>\n",
       "      <td>...</td>\n",
       "      <td>...</td>\n",
       "    </tr>\n",
       "    <tr>\n",
       "      <th>70</th>\n",
       "      <td>Yaoyao</td>\n",
       "      <td>12288</td>\n",
       "      <td>212</td>\n",
       "      <td>750</td>\n",
       "      <td>HP</td>\n",
       "      <td>24.0%</td>\n",
       "    </tr>\n",
       "    <tr>\n",
       "      <th>71</th>\n",
       "      <td>Yelan</td>\n",
       "      <td>14450</td>\n",
       "      <td>243</td>\n",
       "      <td>547</td>\n",
       "      <td>CRIT Rate</td>\n",
       "      <td>19.2%</td>\n",
       "    </tr>\n",
       "    <tr>\n",
       "      <th>72</th>\n",
       "      <td>Yoimiya</td>\n",
       "      <td>10164</td>\n",
       "      <td>322</td>\n",
       "      <td>614</td>\n",
       "      <td>CRIT Rate</td>\n",
       "      <td>19.2%</td>\n",
       "    </tr>\n",
       "    <tr>\n",
       "      <th>73</th>\n",
       "      <td>Yun Jin</td>\n",
       "      <td>10657</td>\n",
       "      <td>191</td>\n",
       "      <td>734</td>\n",
       "      <td>Energy Recharge</td>\n",
       "      <td>26.8%</td>\n",
       "    </tr>\n",
       "    <tr>\n",
       "      <th>74</th>\n",
       "      <td>Zhongli</td>\n",
       "      <td>14695</td>\n",
       "      <td>251</td>\n",
       "      <td>737</td>\n",
       "      <td>Geo DMG Bonus</td>\n",
       "      <td>28.8%</td>\n",
       "    </tr>\n",
       "  </tbody>\n",
       "</table>\n",
       "<p>75 rows × 6 columns</p>\n",
       "</div>"
      ],
      "text/plain": [
       "            Name     HP  ATK  DEF    Ascension Stat Ascension Stat Value\n",
       "0         Albedo  13225  251  876     Geo DMG Bonus                28.8%\n",
       "1      Alhaitham  13348  313  781  Dendro DMG Bonus                28.8%\n",
       "2           Aloy  10898  233  676    Cryo DMG Bonus                28.8%\n",
       "3          Amber   9461  223  600               ATK                24.0%\n",
       "4   Arataki Itto  12858  227  959         CRIT Rate                19.2%\n",
       "..           ...    ...  ...  ...               ...                  ...\n",
       "70        Yaoyao  12288  212  750                HP                24.0%\n",
       "71         Yelan  14450  243  547         CRIT Rate                19.2%\n",
       "72       Yoimiya  10164  322  614         CRIT Rate                19.2%\n",
       "73       Yun Jin  10657  191  734   Energy Recharge                26.8%\n",
       "74       Zhongli  14695  251  737     Geo DMG Bonus                28.8%\n",
       "\n",
       "[75 rows x 6 columns]"
      ]
     },
     "execution_count": 4,
     "metadata": {},
     "output_type": "execute_result"
    }
   ],
   "source": [
    "df3 = df1.drop(['Icon', 'Quality', 'Model Type'], axis = 1)\n",
    "df4 = df2.drop(['Icon'], axis = 1)\n",
    "df4"
   ]
  },
  {
   "cell_type": "markdown",
   "metadata": {},
   "source": [
    "Uniendo los dos Datasets con la key Name y guardandolo en df5"
   ]
  },
  {
   "cell_type": "code",
   "execution_count": 5,
   "metadata": {},
   "outputs": [
    {
     "data": {
      "text/html": [
       "<div>\n",
       "<style scoped>\n",
       "    .dataframe tbody tr th:only-of-type {\n",
       "        vertical-align: middle;\n",
       "    }\n",
       "\n",
       "    .dataframe tbody tr th {\n",
       "        vertical-align: top;\n",
       "    }\n",
       "\n",
       "    .dataframe thead th {\n",
       "        text-align: right;\n",
       "    }\n",
       "</style>\n",
       "<table border=\"1\" class=\"dataframe\">\n",
       "  <thead>\n",
       "    <tr style=\"text-align: right;\">\n",
       "      <th></th>\n",
       "      <th>Name</th>\n",
       "      <th>Element</th>\n",
       "      <th>Weapon</th>\n",
       "      <th>Region</th>\n",
       "      <th>HP</th>\n",
       "      <th>ATK</th>\n",
       "      <th>DEF</th>\n",
       "      <th>Ascension Stat</th>\n",
       "      <th>Ascension Stat Value</th>\n",
       "    </tr>\n",
       "  </thead>\n",
       "  <tbody>\n",
       "    <tr>\n",
       "      <th>0</th>\n",
       "      <td>Albedo</td>\n",
       "      <td>Geo</td>\n",
       "      <td>Sword</td>\n",
       "      <td>Mondstadt</td>\n",
       "      <td>13225</td>\n",
       "      <td>251</td>\n",
       "      <td>876</td>\n",
       "      <td>Geo DMG Bonus</td>\n",
       "      <td>28.8%</td>\n",
       "    </tr>\n",
       "    <tr>\n",
       "      <th>1</th>\n",
       "      <td>Alhaitham</td>\n",
       "      <td>Dendro</td>\n",
       "      <td>Sword</td>\n",
       "      <td>Sumeru</td>\n",
       "      <td>13348</td>\n",
       "      <td>313</td>\n",
       "      <td>781</td>\n",
       "      <td>Dendro DMG Bonus</td>\n",
       "      <td>28.8%</td>\n",
       "    </tr>\n",
       "    <tr>\n",
       "      <th>2</th>\n",
       "      <td>Aloy</td>\n",
       "      <td>Cryo</td>\n",
       "      <td>Bow</td>\n",
       "      <td>NaN</td>\n",
       "      <td>10898</td>\n",
       "      <td>233</td>\n",
       "      <td>676</td>\n",
       "      <td>Cryo DMG Bonus</td>\n",
       "      <td>28.8%</td>\n",
       "    </tr>\n",
       "    <tr>\n",
       "      <th>3</th>\n",
       "      <td>Amber</td>\n",
       "      <td>Pyro</td>\n",
       "      <td>Bow</td>\n",
       "      <td>Mondstadt</td>\n",
       "      <td>9461</td>\n",
       "      <td>223</td>\n",
       "      <td>600</td>\n",
       "      <td>ATK</td>\n",
       "      <td>24.0%</td>\n",
       "    </tr>\n",
       "    <tr>\n",
       "      <th>4</th>\n",
       "      <td>Arataki Itto</td>\n",
       "      <td>Geo</td>\n",
       "      <td>Claymore</td>\n",
       "      <td>Inazuma</td>\n",
       "      <td>12858</td>\n",
       "      <td>227</td>\n",
       "      <td>959</td>\n",
       "      <td>CRIT Rate</td>\n",
       "      <td>19.2%</td>\n",
       "    </tr>\n",
       "    <tr>\n",
       "      <th>...</th>\n",
       "      <td>...</td>\n",
       "      <td>...</td>\n",
       "      <td>...</td>\n",
       "      <td>...</td>\n",
       "      <td>...</td>\n",
       "      <td>...</td>\n",
       "      <td>...</td>\n",
       "      <td>...</td>\n",
       "      <td>...</td>\n",
       "    </tr>\n",
       "    <tr>\n",
       "      <th>70</th>\n",
       "      <td>Yaoyao</td>\n",
       "      <td>Dendro</td>\n",
       "      <td>Polearm</td>\n",
       "      <td>Liyue</td>\n",
       "      <td>12288</td>\n",
       "      <td>212</td>\n",
       "      <td>750</td>\n",
       "      <td>HP</td>\n",
       "      <td>24.0%</td>\n",
       "    </tr>\n",
       "    <tr>\n",
       "      <th>71</th>\n",
       "      <td>Yelan</td>\n",
       "      <td>Hydro</td>\n",
       "      <td>Bow</td>\n",
       "      <td>Liyue</td>\n",
       "      <td>14450</td>\n",
       "      <td>243</td>\n",
       "      <td>547</td>\n",
       "      <td>CRIT Rate</td>\n",
       "      <td>19.2%</td>\n",
       "    </tr>\n",
       "    <tr>\n",
       "      <th>72</th>\n",
       "      <td>Yoimiya</td>\n",
       "      <td>Pyro</td>\n",
       "      <td>Bow</td>\n",
       "      <td>Inazuma</td>\n",
       "      <td>10164</td>\n",
       "      <td>322</td>\n",
       "      <td>614</td>\n",
       "      <td>CRIT Rate</td>\n",
       "      <td>19.2%</td>\n",
       "    </tr>\n",
       "    <tr>\n",
       "      <th>73</th>\n",
       "      <td>Yun Jin</td>\n",
       "      <td>Geo</td>\n",
       "      <td>Polearm</td>\n",
       "      <td>Liyue</td>\n",
       "      <td>10657</td>\n",
       "      <td>191</td>\n",
       "      <td>734</td>\n",
       "      <td>Energy Recharge</td>\n",
       "      <td>26.8%</td>\n",
       "    </tr>\n",
       "    <tr>\n",
       "      <th>74</th>\n",
       "      <td>Zhongli</td>\n",
       "      <td>Geo</td>\n",
       "      <td>Polearm</td>\n",
       "      <td>Liyue</td>\n",
       "      <td>14695</td>\n",
       "      <td>251</td>\n",
       "      <td>737</td>\n",
       "      <td>Geo DMG Bonus</td>\n",
       "      <td>28.8%</td>\n",
       "    </tr>\n",
       "  </tbody>\n",
       "</table>\n",
       "<p>75 rows × 9 columns</p>\n",
       "</div>"
      ],
      "text/plain": [
       "            Name Element    Weapon     Region     HP  ATK  DEF  \\\n",
       "0         Albedo     Geo     Sword  Mondstadt  13225  251  876   \n",
       "1      Alhaitham  Dendro     Sword     Sumeru  13348  313  781   \n",
       "2           Aloy    Cryo       Bow        NaN  10898  233  676   \n",
       "3          Amber    Pyro       Bow  Mondstadt   9461  223  600   \n",
       "4   Arataki Itto     Geo  Claymore    Inazuma  12858  227  959   \n",
       "..           ...     ...       ...        ...    ...  ...  ...   \n",
       "70        Yaoyao  Dendro   Polearm      Liyue  12288  212  750   \n",
       "71         Yelan   Hydro       Bow      Liyue  14450  243  547   \n",
       "72       Yoimiya    Pyro       Bow    Inazuma  10164  322  614   \n",
       "73       Yun Jin     Geo   Polearm      Liyue  10657  191  734   \n",
       "74       Zhongli     Geo   Polearm      Liyue  14695  251  737   \n",
       "\n",
       "      Ascension Stat Ascension Stat Value  \n",
       "0      Geo DMG Bonus                28.8%  \n",
       "1   Dendro DMG Bonus                28.8%  \n",
       "2     Cryo DMG Bonus                28.8%  \n",
       "3                ATK                24.0%  \n",
       "4          CRIT Rate                19.2%  \n",
       "..               ...                  ...  \n",
       "70                HP                24.0%  \n",
       "71         CRIT Rate                19.2%  \n",
       "72         CRIT Rate                19.2%  \n",
       "73   Energy Recharge                26.8%  \n",
       "74     Geo DMG Bonus                28.8%  \n",
       "\n",
       "[75 rows x 9 columns]"
      ]
     },
     "execution_count": 5,
     "metadata": {},
     "output_type": "execute_result"
    }
   ],
   "source": [
    "df5 = df3.merge(df4, on = 'Name')\n",
    "df5\n"
   ]
  },
  {
   "cell_type": "markdown",
   "metadata": {},
   "source": [
    "--Comienza codigo nuevo para testear libreria de profiling"
   ]
  },
  {
   "cell_type": "markdown",
   "metadata": {},
   "source": [
    "Agregando libreria ydata_profiling para acelerar el proceso de EDA"
   ]
  },
  {
   "cell_type": "code",
   "execution_count": 8,
   "metadata": {},
   "outputs": [],
   "source": [
    "profileData = ProfileReport(df5, title = 'Genshin Impact Character Dataset', explorative = True)"
   ]
  },
  {
   "cell_type": "markdown",
   "metadata": {},
   "source": [
    "Guardando el profile Data en un html para poder ver un analisis de los datos de forma rapida"
   ]
  },
  {
   "cell_type": "code",
   "execution_count": 10,
   "metadata": {},
   "outputs": [
    {
     "name": "stderr",
     "output_type": "stream",
     "text": [
      "Summarize dataset: 100%|██████████| 28/28 [00:01<00:00, 16.20it/s, Completed]                            \n",
      "Generate report structure: 100%|██████████| 1/1 [00:02<00:00,  2.29s/it]\n",
      "Render HTML: 100%|██████████| 1/1 [00:00<00:00,  1.68it/s]\n",
      "Export report to file: 100%|██████████| 1/1 [00:00<00:00, 499.98it/s]\n"
     ]
    }
   ],
   "source": [
    "profileData.to_file('GenshinImpactCharacterDataset.html')"
   ]
  },
  {
   "cell_type": "markdown",
   "metadata": {},
   "source": [
    "--- Continua codigo anterior"
   ]
  },
  {
   "cell_type": "markdown",
   "metadata": {},
   "source": [
    "Dropeando otra columna no relevante"
   ]
  },
  {
   "cell_type": "code",
   "execution_count": 11,
   "metadata": {},
   "outputs": [
    {
     "data": {
      "text/html": [
       "<div>\n",
       "<style scoped>\n",
       "    .dataframe tbody tr th:only-of-type {\n",
       "        vertical-align: middle;\n",
       "    }\n",
       "\n",
       "    .dataframe tbody tr th {\n",
       "        vertical-align: top;\n",
       "    }\n",
       "\n",
       "    .dataframe thead th {\n",
       "        text-align: right;\n",
       "    }\n",
       "</style>\n",
       "<table border=\"1\" class=\"dataframe\">\n",
       "  <thead>\n",
       "    <tr style=\"text-align: right;\">\n",
       "      <th></th>\n",
       "      <th>Name</th>\n",
       "      <th>Element</th>\n",
       "      <th>Weapon</th>\n",
       "      <th>Region</th>\n",
       "      <th>HP</th>\n",
       "      <th>ATK</th>\n",
       "      <th>DEF</th>\n",
       "      <th>Ascension Stat</th>\n",
       "    </tr>\n",
       "  </thead>\n",
       "  <tbody>\n",
       "    <tr>\n",
       "      <th>0</th>\n",
       "      <td>Albedo</td>\n",
       "      <td>Geo</td>\n",
       "      <td>Sword</td>\n",
       "      <td>Mondstadt</td>\n",
       "      <td>13225</td>\n",
       "      <td>251</td>\n",
       "      <td>876</td>\n",
       "      <td>Geo DMG Bonus</td>\n",
       "    </tr>\n",
       "    <tr>\n",
       "      <th>1</th>\n",
       "      <td>Alhaitham</td>\n",
       "      <td>Dendro</td>\n",
       "      <td>Sword</td>\n",
       "      <td>Sumeru</td>\n",
       "      <td>13348</td>\n",
       "      <td>313</td>\n",
       "      <td>781</td>\n",
       "      <td>Dendro DMG Bonus</td>\n",
       "    </tr>\n",
       "    <tr>\n",
       "      <th>2</th>\n",
       "      <td>Aloy</td>\n",
       "      <td>Cryo</td>\n",
       "      <td>Bow</td>\n",
       "      <td>NaN</td>\n",
       "      <td>10898</td>\n",
       "      <td>233</td>\n",
       "      <td>676</td>\n",
       "      <td>Cryo DMG Bonus</td>\n",
       "    </tr>\n",
       "    <tr>\n",
       "      <th>3</th>\n",
       "      <td>Amber</td>\n",
       "      <td>Pyro</td>\n",
       "      <td>Bow</td>\n",
       "      <td>Mondstadt</td>\n",
       "      <td>9461</td>\n",
       "      <td>223</td>\n",
       "      <td>600</td>\n",
       "      <td>ATK</td>\n",
       "    </tr>\n",
       "    <tr>\n",
       "      <th>4</th>\n",
       "      <td>Arataki Itto</td>\n",
       "      <td>Geo</td>\n",
       "      <td>Claymore</td>\n",
       "      <td>Inazuma</td>\n",
       "      <td>12858</td>\n",
       "      <td>227</td>\n",
       "      <td>959</td>\n",
       "      <td>CRIT Rate</td>\n",
       "    </tr>\n",
       "    <tr>\n",
       "      <th>...</th>\n",
       "      <td>...</td>\n",
       "      <td>...</td>\n",
       "      <td>...</td>\n",
       "      <td>...</td>\n",
       "      <td>...</td>\n",
       "      <td>...</td>\n",
       "      <td>...</td>\n",
       "      <td>...</td>\n",
       "    </tr>\n",
       "    <tr>\n",
       "      <th>70</th>\n",
       "      <td>Yaoyao</td>\n",
       "      <td>Dendro</td>\n",
       "      <td>Polearm</td>\n",
       "      <td>Liyue</td>\n",
       "      <td>12288</td>\n",
       "      <td>212</td>\n",
       "      <td>750</td>\n",
       "      <td>HP</td>\n",
       "    </tr>\n",
       "    <tr>\n",
       "      <th>71</th>\n",
       "      <td>Yelan</td>\n",
       "      <td>Hydro</td>\n",
       "      <td>Bow</td>\n",
       "      <td>Liyue</td>\n",
       "      <td>14450</td>\n",
       "      <td>243</td>\n",
       "      <td>547</td>\n",
       "      <td>CRIT Rate</td>\n",
       "    </tr>\n",
       "    <tr>\n",
       "      <th>72</th>\n",
       "      <td>Yoimiya</td>\n",
       "      <td>Pyro</td>\n",
       "      <td>Bow</td>\n",
       "      <td>Inazuma</td>\n",
       "      <td>10164</td>\n",
       "      <td>322</td>\n",
       "      <td>614</td>\n",
       "      <td>CRIT Rate</td>\n",
       "    </tr>\n",
       "    <tr>\n",
       "      <th>73</th>\n",
       "      <td>Yun Jin</td>\n",
       "      <td>Geo</td>\n",
       "      <td>Polearm</td>\n",
       "      <td>Liyue</td>\n",
       "      <td>10657</td>\n",
       "      <td>191</td>\n",
       "      <td>734</td>\n",
       "      <td>Energy Recharge</td>\n",
       "    </tr>\n",
       "    <tr>\n",
       "      <th>74</th>\n",
       "      <td>Zhongli</td>\n",
       "      <td>Geo</td>\n",
       "      <td>Polearm</td>\n",
       "      <td>Liyue</td>\n",
       "      <td>14695</td>\n",
       "      <td>251</td>\n",
       "      <td>737</td>\n",
       "      <td>Geo DMG Bonus</td>\n",
       "    </tr>\n",
       "  </tbody>\n",
       "</table>\n",
       "<p>75 rows × 8 columns</p>\n",
       "</div>"
      ],
      "text/plain": [
       "            Name Element    Weapon     Region     HP  ATK  DEF  \\\n",
       "0         Albedo     Geo     Sword  Mondstadt  13225  251  876   \n",
       "1      Alhaitham  Dendro     Sword     Sumeru  13348  313  781   \n",
       "2           Aloy    Cryo       Bow        NaN  10898  233  676   \n",
       "3          Amber    Pyro       Bow  Mondstadt   9461  223  600   \n",
       "4   Arataki Itto     Geo  Claymore    Inazuma  12858  227  959   \n",
       "..           ...     ...       ...        ...    ...  ...  ...   \n",
       "70        Yaoyao  Dendro   Polearm      Liyue  12288  212  750   \n",
       "71         Yelan   Hydro       Bow      Liyue  14450  243  547   \n",
       "72       Yoimiya    Pyro       Bow    Inazuma  10164  322  614   \n",
       "73       Yun Jin     Geo   Polearm      Liyue  10657  191  734   \n",
       "74       Zhongli     Geo   Polearm      Liyue  14695  251  737   \n",
       "\n",
       "      Ascension Stat  \n",
       "0      Geo DMG Bonus  \n",
       "1   Dendro DMG Bonus  \n",
       "2     Cryo DMG Bonus  \n",
       "3                ATK  \n",
       "4          CRIT Rate  \n",
       "..               ...  \n",
       "70                HP  \n",
       "71         CRIT Rate  \n",
       "72         CRIT Rate  \n",
       "73   Energy Recharge  \n",
       "74     Geo DMG Bonus  \n",
       "\n",
       "[75 rows x 8 columns]"
      ]
     },
     "execution_count": 11,
     "metadata": {},
     "output_type": "execute_result"
    }
   ],
   "source": [
    "df5 = df5.drop(['Ascension Stat Value'], axis = 1)\n",
    "df5"
   ]
  },
  {
   "cell_type": "code",
   "execution_count": 12,
   "metadata": {},
   "outputs": [
    {
     "name": "stdout",
     "output_type": "stream",
     "text": [
      "<class 'pandas.core.frame.DataFrame'>\n",
      "RangeIndex: 75 entries, 0 to 74\n",
      "Data columns (total 8 columns):\n",
      " #   Column          Non-Null Count  Dtype \n",
      "---  ------          --------------  ----- \n",
      " 0   Name            75 non-null     object\n",
      " 1   Element         74 non-null     object\n",
      " 2   Weapon          75 non-null     object\n",
      " 3   Region          73 non-null     object\n",
      " 4   HP              75 non-null     int64 \n",
      " 5   ATK             75 non-null     int64 \n",
      " 6   DEF             75 non-null     int64 \n",
      " 7   Ascension Stat  75 non-null     object\n",
      "dtypes: int64(3), object(5)\n",
      "memory usage: 4.8+ KB\n"
     ]
    }
   ],
   "source": [
    "df5.info()"
   ]
  },
  {
   "cell_type": "markdown",
   "metadata": {},
   "source": [
    "Primer grafico solo con los valores numericos del dataset"
   ]
  },
  {
   "cell_type": "code",
   "execution_count": 13,
   "metadata": {},
   "outputs": [
    {
     "name": "stderr",
     "output_type": "stream",
     "text": [
      "c:\\Users\\julia\\AppData\\Local\\Programs\\Python\\Python311\\Lib\\site-packages\\seaborn\\axisgrid.py:118: UserWarning: The figure layout has changed to tight\n",
      "  self._figure.tight_layout(*args, **kwargs)\n"
     ]
    },
    {
     "data": {
      "text/plain": [
       "<seaborn.axisgrid.PairGrid at 0x1c95d325590>"
      ]
     },
     "execution_count": 13,
     "metadata": {},
     "output_type": "execute_result"
    }
   ],
   "source": [
    "sns.pairplot(df5)"
   ]
  },
  {
   "cell_type": "markdown",
   "metadata": {},
   "source": [
    "Creando paleta de colores para que se relacione con los elementos del juego y haciendo grafico segun cantidad de personajes por tipo de elemento"
   ]
  },
  {
   "cell_type": "code",
   "execution_count": 14,
   "metadata": {},
   "outputs": [
    {
     "data": {
      "text/plain": [
       "<Axes: xlabel='Element', ylabel='count'>"
      ]
     },
     "execution_count": 14,
     "metadata": {},
     "output_type": "execute_result"
    }
   ],
   "source": [
    "paletaColoresElementos = {\"Pyro\": \"#FA1A0D\", \"Hydro\": \"#0D8BC4\", \"Geo\": \"#FD8D04\", \"Anemo\": \"#4CD95A\", \"Electro\" : \"#B071C1\", \"Cryo\": \"#85D8DF\", \"Dendro\": \"#7bb42d\"}\n",
    "sns.set_palette(sns.color_palette(paletaColoresElementos.values()))\n",
    "\n",
    "sns.countplot(\n",
    "    x='Element',\n",
    "    data=df5,\n",
    "    palette= paletaColoresElementos\n",
    ")"
   ]
  },
  {
   "cell_type": "markdown",
   "metadata": {},
   "source": [
    "Creando visual conteo de diferentes armas"
   ]
  },
  {
   "cell_type": "code",
   "execution_count": 15,
   "metadata": {},
   "outputs": [
    {
     "data": {
      "text/plain": [
       "<Axes: xlabel='Weapon', ylabel='count'>"
      ]
     },
     "execution_count": 15,
     "metadata": {},
     "output_type": "execute_result"
    }
   ],
   "source": [
    "sns.countplot(\n",
    "    x='Weapon',\n",
    "    data=df5,\n",
    ")"
   ]
  },
  {
   "cell_type": "markdown",
   "metadata": {},
   "source": [
    "Conteo de personajes segun region"
   ]
  },
  {
   "cell_type": "code",
   "execution_count": 16,
   "metadata": {},
   "outputs": [
    {
     "data": {
      "text/plain": [
       "<Axes: xlabel='Region', ylabel='count'>"
      ]
     },
     "execution_count": 16,
     "metadata": {},
     "output_type": "execute_result"
    }
   ],
   "source": [
    "sns.countplot(\n",
    "    x='Region',\n",
    "    data=df5\n",
    ")"
   ]
  },
  {
   "cell_type": "markdown",
   "metadata": {},
   "source": [
    "Scatter segun ATK/DEF, con tamanio segun la vida total, separado por regiones y colorizado por elemento."
   ]
  },
  {
   "cell_type": "code",
   "execution_count": 17,
   "metadata": {},
   "outputs": [
    {
     "name": "stderr",
     "output_type": "stream",
     "text": [
      "c:\\Users\\julia\\AppData\\Local\\Programs\\Python\\Python311\\Lib\\site-packages\\seaborn\\axisgrid.py:118: UserWarning: The figure layout has changed to tight\n",
      "  self._figure.tight_layout(*args, **kwargs)\n"
     ]
    },
    {
     "data": {
      "text/plain": [
       "<seaborn.axisgrid.FacetGrid at 0x1c95d47b150>"
      ]
     },
     "execution_count": 17,
     "metadata": {},
     "output_type": "execute_result"
    }
   ],
   "source": [
    "sns.relplot(\n",
    "    data=df5[df5['Region'] != 'Snezhnaya'],\n",
    "    x='ATK',\n",
    "    y='DEF',\n",
    "    col='Region',\n",
    "    hue='Element',\n",
    "    kind='scatter',\n",
    "    size='HP',\n",
    ")"
   ]
  },
  {
   "cell_type": "markdown",
   "metadata": {},
   "source": [
    "Scatter para ver si existe alguna correlacion entre los atributos ATK-DEF-HP, segun region"
   ]
  },
  {
   "cell_type": "code",
   "execution_count": null,
   "metadata": {},
   "outputs": [],
   "source": [
    "sns.scatterplot(\n",
    "    data=df5,\n",
    "    x='ATK',\n",
    "    y='DEF',\n",
    "    size='HP',\n",
    "    hue='Region',\n",
    ")"
   ]
  },
  {
   "cell_type": "markdown",
   "metadata": {},
   "source": [
    "Scatter para ver si existe alguna correlacion entre los atributos ATK-DEF-HP, segun Armas"
   ]
  },
  {
   "cell_type": "code",
   "execution_count": null,
   "metadata": {},
   "outputs": [],
   "source": [
    "sns.scatterplot(\n",
    "    data=df5,\n",
    "    x='HP',\n",
    "    y='DEF',\n",
    "    size='ATK',\n",
    "    hue='Weapon',\n",
    ")"
   ]
  },
  {
   "cell_type": "markdown",
   "metadata": {},
   "source": [
    "Cantidad de ATK segun elemento"
   ]
  },
  {
   "cell_type": "code",
   "execution_count": null,
   "metadata": {},
   "outputs": [],
   "source": [
    "sns.barplot(\n",
    "    data=df5,\n",
    "    x='Element',\n",
    "    y='ATK',\n",
    "    palette= paletaColoresElementos\n",
    ")\n"
   ]
  },
  {
   "cell_type": "markdown",
   "metadata": {},
   "source": [
    "Cantidad de ATK segun Arma"
   ]
  },
  {
   "cell_type": "code",
   "execution_count": null,
   "metadata": {},
   "outputs": [],
   "source": [
    "sns.barplot(\n",
    "    data=df5,\n",
    "    x='Weapon',\n",
    "    y='ATK',\n",
    ")"
   ]
  },
  {
   "cell_type": "markdown",
   "metadata": {},
   "source": [
    "Cantidad de ATK segun Elemento y Region"
   ]
  },
  {
   "cell_type": "code",
   "execution_count": null,
   "metadata": {},
   "outputs": [],
   "source": [
    "sns.catplot(\n",
    "    data=df5,\n",
    "    x='Element',\n",
    "    y='ATK',\n",
    "    hue='Region',\n",
    "    kind='bar'\n",
    ")"
   ]
  },
  {
   "cell_type": "markdown",
   "metadata": {},
   "source": [
    "Top 5 personajes con mayor ATK, segun su region"
   ]
  },
  {
   "cell_type": "code",
   "execution_count": null,
   "metadata": {},
   "outputs": [],
   "source": [
    "sns.barplot(\n",
    "    data=df5.nlargest(5, 'ATK'),\n",
    "    x='Name',\n",
    "    y='ATK',\n",
    "    hue='Region'\n",
    ")"
   ]
  },
  {
   "cell_type": "markdown",
   "metadata": {},
   "source": [
    "Top 5 Personajes con mayor defensa, segun region"
   ]
  },
  {
   "cell_type": "code",
   "execution_count": null,
   "metadata": {},
   "outputs": [],
   "source": [
    "sns.barplot(\n",
    "    data=df5.nlargest(5, 'DEF'),\n",
    "    x='Name',\n",
    "    y='DEF',\n",
    "    hue='Region'\n",
    ")"
   ]
  },
  {
   "cell_type": "markdown",
   "metadata": {},
   "source": [
    "Top 5 de personajes con mayor HP, segun Region"
   ]
  },
  {
   "cell_type": "code",
   "execution_count": null,
   "metadata": {},
   "outputs": [],
   "source": [
    "sns.barplot(\n",
    "    data=df5.nlargest(5, 'HP'),\n",
    "    x='Name',\n",
    "    y='HP',\n",
    "    hue='Region'\n",
    ")"
   ]
  },
  {
   "cell_type": "markdown",
   "metadata": {},
   "source": [
    "Contrario a lo pensado, los personajes Geo no son los primeros en el rank de defensa a pesar de que son los que mas necesitan esta estadistica"
   ]
  },
  {
   "cell_type": "code",
   "execution_count": null,
   "metadata": {},
   "outputs": [],
   "source": [
    "sns.barplot(\n",
    "    data=df5[df5['Region'] == 'Liyue'].nlargest(7, 'DEF'),\n",
    "    x='Name',\n",
    "    y='DEF',\n",
    "    hue='Element',\n",
    "    palette= paletaColoresElementos\n",
    ")"
   ]
  },
  {
   "cell_type": "code",
   "execution_count": null,
   "metadata": {},
   "outputs": [],
   "source": []
  }
 ],
 "metadata": {
  "kernelspec": {
   "display_name": "Python 3",
   "language": "python",
   "name": "python3"
  },
  "language_info": {
   "codemirror_mode": {
    "name": "ipython",
    "version": 3
   },
   "file_extension": ".py",
   "mimetype": "text/x-python",
   "name": "python",
   "nbconvert_exporter": "python",
   "pygments_lexer": "ipython3",
   "version": "3.11.5"
  }
 },
 "nbformat": 4,
 "nbformat_minor": 2
}
